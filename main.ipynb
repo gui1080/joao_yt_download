{
 "cells": [
  {
   "cell_type": "code",
   "execution_count": null,
   "id": "d87da08d-4176-4487-9310-8b75d49ea7e8",
   "metadata": {},
   "outputs": [],
   "source": [
    "from pytube import YouTube\n",
    "import os\n",
    "import yt_dlp\n",
    "import os\n",
    "import unicodedata\n",
    "from moviepy import VideoFileClip\n",
    "import whisper"
   ]
  },
  {
   "cell_type": "markdown",
   "id": "6332d275-5a2a-4ced-a67c-07cee745c0d2",
   "metadata": {},
   "source": [
    "# BAIXA O VIDEO"
   ]
  },
  {
   "cell_type": "code",
   "execution_count": null,
   "id": "f84c0a04-b951-43a3-8996-fb33ad5a735c",
   "metadata": {},
   "outputs": [],
   "source": [
    "# === SETTINGS ===\n",
    "URL_LIST_PATH = 'shorts_list.txt'  # File with one YouTube Shorts URL per line\n",
    "DOWNLOAD_FOLDER = 'videos'      # Folder to save downloaded videos\n",
    "\n",
    "def download_video(url, output_path):\n",
    "    try:\n",
    "        yt = YouTube(url)\n",
    "        # Shorts are usually under 60s, 720p is fine\n",
    "        stream = yt.streams.filter(progressive=True, file_extension='mp4').order_by('resolution').desc().first()\n",
    "        if stream:\n",
    "            print(f\"Downloading: {yt.title}\")\n",
    "            stream.download(output_path=output_path)\n",
    "            print(f\"Downloaded: {yt.title}\\n\")\n",
    "        else:\n",
    "            print(f\"No suitable stream found for {url}\")\n",
    "    except Exception as e:\n",
    "        print(f\"Error downloading {url}: {e}\")"
   ]
  },
  {
   "cell_type": "code",
   "execution_count": null,
   "id": "5179f2ae-1837-4459-b53c-da4b6b315791",
   "metadata": {},
   "outputs": [],
   "source": [
    "def download_with_ytdlp(url, DOWNLOAD_FOLDER):\n",
    "    ydl_opts = {\n",
    "        'outtmpl': f'{DOWNLOAD_FOLDER}/%(title)s.%(ext)s',\n",
    "        'format': 'mp4',\n",
    "        'quiet': False,\n",
    "    }\n",
    "    with yt_dlp.YoutubeDL(ydl_opts) as ydl:\n",
    "        ydl.download([url])"
   ]
  },
  {
   "cell_type": "code",
   "execution_count": null,
   "id": "86478c84-c6da-4ece-9ca1-86340657ba03",
   "metadata": {},
   "outputs": [],
   "source": [
    "try:\n",
    "    with open(URL_LIST_PATH, 'r') as file:\n",
    "        urls = [line.strip() for line in file if line.strip()]\n",
    "            \n",
    "except FileNotFoundError:\n",
    "    print(f\"File not found: {URL_LIST_PATH}\")\n",
    "\n",
    "for url in urls:\n",
    "    download_with_ytdlp(url, DOWNLOAD_FOLDER)\n",
    "\n",
    "print(\"Batch download complete.\")"
   ]
  },
  {
   "cell_type": "markdown",
   "id": "7ef74fa5-7108-47cc-b394-ee2c43042b52",
   "metadata": {},
   "source": [
    "# TRANSFORMA O VIDEO EM AUDIO"
   ]
  },
  {
   "cell_type": "code",
   "execution_count": null,
   "id": "66bdae8c-b77d-4da3-a7ea-acd1b408e68f",
   "metadata": {},
   "outputs": [],
   "source": [
    "VIDEOS_FOLDER = 'videos'\n",
    "TRANSCRIPTS_FOLDER = 'transcription'\n",
    "AUDIO_FOLDER = 'temp_audio'\n",
    "\n",
    "os.makedirs(TRANSCRIPTS_FOLDER, exist_ok=True)\n",
    "os.makedirs(AUDIO_FOLDER, exist_ok=True)\n",
    "\n",
    "model = whisper.load_model(\"base\")\n",
    "\n",
    "def sanitize_filename(name):\n",
    "    # Remove accents and special characters\n",
    "    name = unicodedata.normalize('NFKD', name).encode('ASCII', 'ignore').decode('ASCII')\n",
    "    return ''.join(c for c in name if c.isalnum() or c in (' ', '.', '_', '-')).rstrip()\n",
    "\n",
    "video_files = [f for f in os.listdir(VIDEOS_FOLDER) if f.lower().endswith(('.mp4', '.mov', '.webm', '.mkv'))]\n",
    "\n",
    "for video_file in video_files:\n",
    "    input_path = os.path.join(VIDEOS_FOLDER, video_file)\n",
    "    \n",
    "    if not os.path.isfile(input_path):\n",
    "        print(f\"❌ File not found: {input_path}\")\n",
    "        continue\n",
    "\n",
    "    safe_name = sanitize_filename(os.path.splitext(video_file)[0])\n",
    "    audio_path = os.path.join(AUDIO_FOLDER, safe_name + '.wav')\n",
    "    transcript_path = os.path.join(TRANSCRIPTS_FOLDER, safe_name + '.txt')\n",
    "\n",
    "    try:\n",
    "        print(f\"🔊 Extracting audio from: {video_file}\")\n",
    "        clip = VideoFileClip(input_path)\n",
    "        if clip.audio is None:\n",
    "            print(f\"❌ No audio track found in {video_file}. Skipping.\")\n",
    "            continue\n",
    "        clip.audio.write_audiofile(audio_path, codec='pcm_s16le')\n",
    "        clip.close()\n",
    "    except Exception as e:\n",
    "        print(f\"❌ Failed to extract audio: {e}\")\n",
    "        continue"
   ]
  },
  {
   "cell_type": "markdown",
   "id": "3a0a16fc-6971-4cf1-b98b-8297fc21740c",
   "metadata": {},
   "source": [
    "# FAZ O AUDIO VIRAR UM TXT"
   ]
  },
  {
   "cell_type": "code",
   "execution_count": null,
   "id": "ef360010-ca58-44db-9f04-03c7348e9cd1",
   "metadata": {},
   "outputs": [],
   "source": [
    "model = whisper.load_model(\"base\")  # Or \"tiny\", \"small\", etc.\n",
    "\n",
    "folder_path = \"temp_audio\"\n",
    "\n",
    "for filename in os.listdir(folder_path):\n",
    "    if filename.lower().endswith('.wav'):\n",
    "        filepath = os.path.join(folder_path, filename)\n",
    "        print(f\"Transcribing {filename}...\")\n",
    "\n",
    "        result = model.transcribe(filepath)\n",
    "        text_path = os.path.splitext(filepath)[0] + \".txt\"\n",
    "        with open(text_path, \"w\", encoding=\"utf-8\") as f:\n",
    "            f.write(result[\"text\"])\n",
    "        print(f\"Saved: {text_path}\")"
   ]
  },
  {
   "cell_type": "code",
   "execution_count": null,
   "id": "ce93ef90-1e97-4213-909d-bcc8531c5774",
   "metadata": {},
   "outputs": [],
   "source": []
  }
 ],
 "metadata": {
  "kernelspec": {
   "display_name": "Python 3 (ipykernel)",
   "language": "python",
   "name": "python3"
  },
  "language_info": {
   "codemirror_mode": {
    "name": "ipython",
    "version": 3
   },
   "file_extension": ".py",
   "mimetype": "text/x-python",
   "name": "python",
   "nbconvert_exporter": "python",
   "pygments_lexer": "ipython3",
   "version": "3.12.7"
  }
 },
 "nbformat": 4,
 "nbformat_minor": 5
}
